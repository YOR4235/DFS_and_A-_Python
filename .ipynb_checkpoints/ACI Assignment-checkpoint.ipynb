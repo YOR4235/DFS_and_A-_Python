{
 "cells": [
  {
   "cell_type": "code",
   "execution_count": 307,
   "id": "7bda8dc6",
   "metadata": {},
   "outputs": [],
   "source": [
    "#Read input graph and data\n",
    "def read_initial_node():\n",
    "    global initial_node \n",
    "    initial_node = int(input('Enter Start node : '))\n",
    "\n",
    "def read_goal_node():\n",
    "    global goal_node\n",
    "    goal_node = int(input('Enter goal node : '))\n",
    "    \n",
    "def read_number_of_nodes():\n",
    "    global nodes_count\n",
    "    nodes_count = int(input('Enter number of nodes : '))\n",
    "\n",
    "def read_graph():\n",
    "    global transition_matrix\n",
    "    transition_matrix = np.matrix(np.ones((nodes_count,nodes_count))*np.inf)\n",
    "    for each_node in range(nodes_count):\n",
    "        transition_matrix[each_node,each_node]=0\n",
    "        edges_with_cost = input('Enter edges from node {0} : '.format(each_node)).split(',')\n",
    "        for each_edge in edges_with_cost:\n",
    "            if each_edge:\n",
    "                transition_matrix[each_node,int(each_edge.split(':')[0])]=int(each_edge.split(':')[1])\n",
    "                transition_matrix[int(each_edge.split(':')[0]),each_node]=int(each_edge.split(':')[1])"
   ]
  },
  {
   "cell_type": "code",
   "execution_count": 305,
   "id": "3ef9871d",
   "metadata": {},
   "outputs": [],
   "source": [
    "from collections import OrderedDict\n",
    "\n",
    "def get_adjacent_nodes(node,visited_array,path,all_paths):\n",
    "    adj_nodes = []\n",
    "    for adj_node in range(nodes_count):\n",
    "        if transition_matrix[node,adj_node] not in (0,float('inf')):\n",
    "            if adj_node==goal_node:\n",
    "                if list(OrderedDict.fromkeys(path+[adj_node])) not in all_paths:\n",
    "                    adj_nodes.append(adj_node)\n",
    "            elif visited_array[adj_node]==0:\n",
    "                adj_nodes.append(adj_node)\n",
    "    return adj_nodes\n",
    "\n",
    "def is_goal_node(node):\n",
    "    if node==goal_node:\n",
    "        return True\n",
    "    return False"
   ]
  },
  {
   "cell_type": "code",
   "execution_count": 282,
   "id": "9d558a70",
   "metadata": {},
   "outputs": [],
   "source": [
    "def cost(path):\n",
    "    cost=0\n",
    "    for index in range(len(path)-1):\n",
    "        cost+=transition_matrix[path[index],path[index+1]]\n",
    "    return cost\n",
    "def display_path(path):\n",
    "    delim = \"->\"\n",
    "    print('path :',str(delim.join(map(str, path))))"
   ]
  },
  {
   "cell_type": "code",
   "execution_count": 283,
   "id": "e40328b8",
   "metadata": {},
   "outputs": [],
   "source": [
    "def update_visited_array(path):\n",
    "    visited_array = np.zeros(nodes_count)\n",
    "    for node in path:\n",
    "        visited_array[node] = 1\n",
    "    return visited_array"
   ]
  },
  {
   "cell_type": "code",
   "execution_count": 362,
   "id": "c31212c6",
   "metadata": {},
   "outputs": [],
   "source": [
    "def update_path(node,path,dfs_stack_complete):\n",
    "    index = max(idx for idx, val in enumerate(dfs_stack_complete) if val == node)\n",
    "    for x in dfs_stack_complete[index:]:\n",
    "        if x in path:\n",
    "            path.remove(x)\n",
    "    dfs_stack_complete = dfs_stack_complete[0:index]\n",
    "    print(path)"
   ]
  },
  {
   "cell_type": "code",
   "execution_count": null,
   "id": "fe9e55da",
   "metadata": {},
   "outputs": [],
   "source": [
    "def dfs_algorithm(visited_array,dfs_stack,path,all_paths,dfs_stack_complete):\n",
    "    \n",
    "    #print('dfs stack : ',dfs_stack)\n",
    "    #print('dfs_stack_complete : ',dfs_stack_complete)\n",
    "    node = dfs_stack[-1]\n",
    "    visited_array[node]=1\n",
    "    path.append(node)\n",
    "    \n",
    "    if is_goal_node(node):\n",
    "        all_paths.append(path)\n",
    "        display_path(path)\n",
    "        print('cost : ',cost(path))\n",
    "        print('dfs_stack : ',dfs_stack)\n",
    "        print('dfs_stack_complete : ',dfs_stack_complete)\n",
    "        print('visited array : ',visited_array)\n",
    "        print('all paths : ', all_paths)\n",
    "        print('--------------------------------')\n",
    "        dfs_stack = [initial_node]\n",
    "        dfs_stack_complete = [initial_node]\n",
    "        path = []\n",
    "        visited_array = np.zeros(nodes_count)\n",
    "        dfs_algorithm(visited_array,dfs_stack,path,all_paths,dfs_stack_complete)\n",
    "        return \"Node found\"\n",
    "    \n",
    "    else:\n",
    "        adj_nodes = get_adjacent_nodes(node,visited_array,path,all_paths)\n",
    "        dfs_stack.pop()\n",
    "        if len(adj_nodes) > 0:\n",
    "            dfs_stack_complete+=adj_nodes\n",
    "            dfs_stack+=adj_nodes\n",
    "            dfs_algorithm(visited_array,dfs_stack,path,all_paths,dfs_stack_complete)\n",
    "        else:\n",
    "            if len(dfs_stack)>0:\n",
    "                display_path(path)\n",
    "                update_path(node,path,dfs_stack_complete)\n",
    "                update_visited_array(path)\n",
    "                path.pop()\n",
    "                dfs_algorithm(visited_array,dfs_stack,path,all_paths,dfs_stack_complete)\n",
    "            else:\n",
    "                return \"Node not found\"\n",
    "\n",
    "def dfs():\n",
    "    visited_array = np.array(np.zeros(nodes_count))\n",
    "    dfs_stack = [initial_node]\n",
    "    dfs_stack_complete = [initial_node]\n",
    "    path=[]\n",
    "    all_paths=[]\n",
    "    dfs_algorithm(visited_array,dfs_stack,path,all_paths,dfs_stack_complete)\n",
    "    return all_paths\n",
    "\n",
    "read_initial_node()\n",
    "read_goal_node()\n",
    "dfs()"
   ]
  },
  {
   "cell_type": "raw",
   "id": "1810a456",
   "metadata": {},
   "source": [
    "A=0,B=1,C=2,D=3,E=4,F=5,G=6,H=7\n",
    "A->1:15,2:10,3:17,6:5\n",
    "B->3:12\n",
    "C->6:7\n",
    "D->4:2,5:10,7:4\n",
    "E->\n",
    "F->7:11\n",
    "G->7:25\n",
    "H->"
   ]
  },
  {
   "cell_type": "code",
   "execution_count": 9,
   "id": "ec4a2ddf",
   "metadata": {
    "scrolled": true
   },
   "outputs": [
    {
     "name": "stdout",
     "output_type": "stream",
     "text": [
      "Enter number of nodes : 8\n",
      "Enter edges from node 0 : 1:15,2:10,3:17,6:5\n",
      "Enter edges from node 1 : 3:12\n",
      "Enter edges from node 2 : 6:7\n",
      "Enter edges from node 3 : 4:2,5:10,7:4 \n",
      "Enter edges from node 4 : \n",
      "Enter edges from node 5 : 7:11\n",
      "Enter edges from node 6 : 7:25\n",
      "Enter edges from node 7 : \n"
     ]
    }
   ],
   "source": [
    "import numpy as np\n",
    "\n",
    "def read_data():\n",
    "    read_number_of_nodes()\n",
    "    read_graph()\n",
    "\n",
    "read_data()"
   ]
  },
  {
   "cell_type": "code",
   "execution_count": 344,
   "id": "342aefca",
   "metadata": {},
   "outputs": [
    {
     "data": {
      "text/plain": [
       "[3, 2, 1, 4, 3, 2]"
      ]
     },
     "execution_count": 344,
     "metadata": {},
     "output_type": "execute_result"
    }
   ],
   "source": [
    "def update_x(x):\n",
    "    x+=[1,2,3]\n",
    "\n",
    "x=[2,3,4]\n",
    "update_x(x)\n",
    "x[::-1]"
   ]
  },
  {
   "cell_type": "code",
   "execution_count": null,
   "id": "b4ab61bf",
   "metadata": {},
   "outputs": [],
   "source": []
  }
 ],
 "metadata": {
  "kernelspec": {
   "display_name": "Python 3 (ipykernel)",
   "language": "python",
   "name": "python3"
  },
  "language_info": {
   "codemirror_mode": {
    "name": "ipython",
    "version": 3
   },
   "file_extension": ".py",
   "mimetype": "text/x-python",
   "name": "python",
   "nbconvert_exporter": "python",
   "pygments_lexer": "ipython3",
   "version": "3.11.2"
  }
 },
 "nbformat": 4,
 "nbformat_minor": 5
}
