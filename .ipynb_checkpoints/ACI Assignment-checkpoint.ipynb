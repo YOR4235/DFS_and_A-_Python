{
 "cells": [
  {
   "cell_type": "code",
   "execution_count": 415,
   "id": "7bda8dc6",
   "metadata": {},
   "outputs": [],
   "source": [
    "#Read input graph and data\n",
    "def read_initial_node(): \n",
    "    initial_node = int(input('Enter Start node {0,1,2..}: '))\n",
    "    return initial_node\n",
    "\n",
    "def read_goal_node():\n",
    "    goal_node = int(input('Enter goal node {0,1,2..}: '))\n",
    "    return goal_node\n",
    "    \n",
    "def read_number_of_nodes():\n",
    "    global nodes_count\n",
    "    nodes_count = int(input('Enter number of nodes : '))\n",
    "    return nodes_count\n",
    "\n",
    "def read_graph():\n",
    "    global transition_matrix\n",
    "    transition_matrix = np.matrix(np.ones((nodes_count,nodes_count))*np.inf)\n",
    "    for each_node in range(nodes_count):\n",
    "        transition_matrix[each_node,each_node]=0\n",
    "        edges_with_cost = input('Enter edges from node {0} : '.format(each_node)).split(',')\n",
    "        for each_edge in edges_with_cost:\n",
    "            if each_edge:\n",
    "                transition_matrix[each_node,int(each_edge.split(':')[0])]=int(each_edge.split(':')[1])\n",
    "                transition_matrix[int(each_edge.split(':')[0]),each_node]=int(each_edge.split(':')[1])\n",
    "    return transition_matrix"
   ]
  },
  {
   "cell_type": "code",
   "execution_count": 408,
   "id": "dfa1cb10",
   "metadata": {},
   "outputs": [],
   "source": [
    "#checking goal node and getting adjacent nodes\n",
    "def node_reach_goal_node(path,goal_node):\n",
    "    if path[-1] == goal_node:\n",
    "        return True\n",
    "    return False\n",
    "\n",
    "def get_adj_nodes(nodes):\n",
    "    adj_nodes = []\n",
    "    for adj_node in range(nodes_count):\n",
    "        if transition_matrix[nodes[-1],adj_node] not in (0,float('inf')) and adj_node not in nodes:\n",
    "            adj_nodes.append(nodes + [adj_node])\n",
    "    return adj_nodes"
   ]
  },
  {
   "cell_type": "code",
   "execution_count": 409,
   "id": "7769ef79",
   "metadata": {},
   "outputs": [],
   "source": [
    "#finding cost and displaying path\n",
    "def find_cost(path):\n",
    "    cost=0\n",
    "    for index in range(len(path)-1):\n",
    "        cost += transition_matrix[path[index],path[index+1]]\n",
    "    return cost\n",
    "def display_path(path):\n",
    "    print('path : ',end='')\n",
    "    print('->'.join(chr(node+65) for node in path))\n"
   ]
  },
  {
   "cell_type": "code",
   "execution_count": 410,
   "id": "7340294d",
   "metadata": {},
   "outputs": [],
   "source": [
    "#DEPTH FIRST SEARCH\n",
    "def dfs_algorithm(dfs_stack,goal_node):\n",
    "    if node_reach_goal_node(dfs_stack[-1],goal_node):\n",
    "        return dfs_stack[-1]\n",
    "    else:\n",
    "        nodes = dfs_stack.pop()\n",
    "        adj_nodes = get_adj_nodes(nodes)\n",
    "        if len(adj_nodes) > 0:\n",
    "            dfs_stack += adj_nodes\n",
    "        return dfs_algorithm(dfs_stack,goal_node)\n",
    "    \n",
    "def dfs(initial_node,goal_node):\n",
    "    path = dfs_algorithm([[initial_node]],goal_node)\n",
    "    display_path(path)\n",
    "    print('cost : ',find_cost(path))"
   ]
  },
  {
   "cell_type": "code",
   "execution_count": 411,
   "id": "03df5270",
   "metadata": {},
   "outputs": [],
   "source": [
    "#Hueristic Design\n",
    "def all_possible_paths(dfs_stack,goal_node,paths=[]):\n",
    "    if len(dfs_stack) == 0:\n",
    "        total_cost = 0\n",
    "        for nodes in paths:\n",
    "            total_cost += find_cost(nodes)\n",
    "        if len(paths) == 0:\n",
    "            return 0;\n",
    "        avg_cost = total_cost/len(paths)\n",
    "        return round(avg_cost,2)\n",
    "    elif node_reach_goal_node(dfs_stack[-1],goal_node):\n",
    "        #display_path(dfs_stack[-1])\n",
    "        paths.append(dfs_stack[-1])\n",
    "        dfs_stack.pop()\n",
    "        return all_possible_paths(dfs_stack,goal_node,paths)\n",
    "    else:\n",
    "        nodes = dfs_stack.pop()\n",
    "        adj_nodes = get_adj_nodes(nodes)\n",
    "        if len(adj_nodes) > 0:\n",
    "            dfs_stack += adj_nodes\n",
    "        return all_possible_paths(dfs_stack,goal_node,paths)\n",
    "\n",
    "def find_hueristic_values(goal_node):\n",
    "    hue_values = []\n",
    "    for node in range(nodes_count):\n",
    "        avg_cost = all_possible_paths([[node]],goal_node,[])\n",
    "        hue_values.append(avg_cost)\n",
    "    return hue_values\n",
    "\n",
    "def sort_stack_by_cost(dfs_stack,hue_values):\n",
    "    for i in range(len(dfs_stack)):\n",
    "        for j in range(i+1,len(dfs_stack)):\n",
    "            if (find_cost(dfs_stack[i])+hue_values[dfs_stack[i][-1]])<(find_cost(dfs_stack[j])+hue_values[dfs_stack[j][-1]]):\n",
    "                temp=dfs_stack[i]\n",
    "                dfs_stack[i]=dfs_stack[j]\n",
    "                dfs_stack[j]=temp\n",
    "    return dfs_stack"
   ]
  },
  {
   "cell_type": "code",
   "execution_count": 412,
   "id": "3d8ed092",
   "metadata": {},
   "outputs": [],
   "source": [
    "#A_STAR\n",
    "def a_star_algorithm(dfs_stack,hue_values,goal_node):\n",
    "    if node_reach_goal_node(dfs_stack[-1],goal_node):\n",
    "        return dfs_stack[-1]\n",
    "    else:\n",
    "        nodes = dfs_stack.pop()\n",
    "        adj_nodes = get_adj_nodes(nodes)\n",
    "        if len(adj_nodes) > 0:\n",
    "            dfs_stack += adj_nodes\n",
    "        dfs_stack = sort_stack_by_cost(dfs_stack,hue_values)\n",
    "        return a_star_algorithm(dfs_stack,hue_values,goal_node)\n",
    "\n",
    "def a_star(initial_node,goal_node):\n",
    "    hue_values = find_hueristic_values(goal_node)\n",
    "    print(\"hueristic values : \",hue_values)\n",
    "    path = a_star_algorithm([[initial_node]],hue_values,goal_node)\n",
    "    display_path(path)\n",
    "    print('cost : ',find_cost(path))"
   ]
  },
  {
   "cell_type": "raw",
   "id": "da7423ae",
   "metadata": {},
   "source": [
    "A=0,B=1,C=2,D=3,E=4,F=5,G=6,H=7\n",
    "A->1:15,2:10,3:17,6:5\n",
    "B->3:12\n",
    "C->6:7\n",
    "D->4:2,5:10,7:4\n",
    "E->\n",
    "F->7:11\n",
    "G->7:25\n",
    "H->"
   ]
  },
  {
   "cell_type": "code",
   "execution_count": 413,
   "id": "6f8c4317",
   "metadata": {},
   "outputs": [],
   "source": [
    "#Read input graph\n",
    "def read_data():\n",
    "    read_number_of_nodes()\n",
    "    read_graph()\n",
    "\n",
    "#Main method\n",
    "def main():\n",
    "    #read_data()\n",
    "    initial_node = read_initial_node()\n",
    "    goal_node = read_goal_node()\n",
    "    print(\"---------DFS-----------\")\n",
    "    dfs(initial_node,goal_node)\n",
    "    print(\"---------A star-----------\")\n",
    "    a_star(initial_node,goal_node)"
   ]
  },
  {
   "cell_type": "code",
   "execution_count": 416,
   "id": "795641f2",
   "metadata": {},
   "outputs": [
    {
     "name": "stdout",
     "output_type": "stream",
     "text": [
      "Enter Start node {0,1,2..}: 0\n",
      "Enter goal node {0,1,2..}: 3\n",
      "---------DFS-----------\n",
      "path : A->G->H->F->D\n",
      "cost :  51.0\n",
      "---------A star-----------\n",
      "hueristic values :  [39.67, 49.67, 40.75, 0.0, 2.0, 50.17, 34.5, 42.83]\n",
      "path : A->D\n",
      "cost :  17.0\n"
     ]
    }
   ],
   "source": [
    "#Start from here\n",
    "if __name__ == '__main__':\n",
    "    main()"
   ]
  },
  {
   "cell_type": "code",
   "execution_count": null,
   "id": "b0a3f575",
   "metadata": {},
   "outputs": [],
   "source": []
  }
 ],
 "metadata": {
  "kernelspec": {
   "display_name": "Python 3 (ipykernel)",
   "language": "python",
   "name": "python3"
  },
  "language_info": {
   "codemirror_mode": {
    "name": "ipython",
    "version": 3
   },
   "file_extension": ".py",
   "mimetype": "text/x-python",
   "name": "python",
   "nbconvert_exporter": "python",
   "pygments_lexer": "ipython3",
   "version": "3.11.2"
  }
 },
 "nbformat": 4,
 "nbformat_minor": 5
}
