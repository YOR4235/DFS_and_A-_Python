{
 "cells": [
  {
   "cell_type": "code",
   "execution_count": 2,
   "id": "7bda8dc6",
   "metadata": {},
   "outputs": [],
   "source": [
    "def read_initial_node():\n",
    "    global initial_node \n",
    "    initial_node = int(input('Enter Start node : '))\n",
    "\n",
    "def read_goal_node():\n",
    "    global goal_node\n",
    "    goal_node = int(input('Enter goal node : '))\n",
    "    \n",
    "def read_number_of_nodes():\n",
    "    global nodes_count\n",
    "    nodes_count = int(input('Enter number of nodes : '))"
   ]
  },
  {
   "cell_type": "code",
   "execution_count": 3,
   "id": "b195f42b-f5bc-4360-8a66-d890f74a1038",
   "metadata": {},
   "outputs": [],
   "source": [
    "def read_graph():\n",
    "    global transition_matrix\n",
    "    transition_matrix = np.matrix(np.ones((nodes_count,nodes_count))*np.inf)\n",
    "    for each_node in range(nodes_count):\n",
    "        transition_matrix[each_node,each_node]=0\n",
    "        edges_with_cost = input('Enter edges from node {0} : '.format(each_node)).split(',')\n",
    "        for each_edge in edges_with_cost:\n",
    "            if each_edge:\n",
    "                transition_matrix[each_node,int(each_edge.split(':')[0])]=int(each_edge.split(':')[1])\n",
    "                transition_matrix[int(each_edge.split(':')[0]),each_node]=int(each_edge.split(':')[1])"
   ]
  },
  {
   "cell_type": "code",
   "execution_count": 4,
   "id": "bf94aaa3-24b0-4df6-82ef-36d54a27a756",
   "metadata": {},
   "outputs": [],
   "source": [
    "def get_adjacent_node_dfs(node,visited_array):\n",
    "    for adj_node in range(nodes_count):\n",
    "        if transition_matrix[node,adj_node] not in (0,float('inf')):\n",
    "            if visited_array[adj_node]==0:\n",
    "                return adj_node\n",
    "    return -1"
   ]
  },
  {
   "cell_type": "code",
   "execution_count": 27,
   "id": "8239daa7",
   "metadata": {},
   "outputs": [],
   "source": [
    "def is_goal_node(node,visited_array,path):\n",
    "    visited_array[node]=1\n",
    "    path.append(node)\n",
    "    if node==goal_node:\n",
    "        return True\n",
    "    return False"
   ]
  },
  {
   "cell_type": "code",
   "execution_count": 6,
   "id": "9d558a70",
   "metadata": {},
   "outputs": [],
   "source": [
    "def cost(path):\n",
    "    cost=0\n",
    "    for index in range(len(path)-1):\n",
    "        cost+=transition_matrix[path[index],path[index+1]]\n",
    "    return cost"
   ]
  },
  {
   "cell_type": "code",
   "execution_count": 7,
   "id": "e1137863",
   "metadata": {},
   "outputs": [],
   "source": [
    "def display_path(path):\n",
    "    delim = \"->\"\n",
    "    print('path :',str(delim.join(map(str, path))))"
   ]
  },
  {
   "cell_type": "code",
   "execution_count": 33,
   "id": "0e5e1c66",
   "metadata": {},
   "outputs": [],
   "source": [
    "def dfs_algorithm(visited_array,dfs_stack,path):\n",
    "    if is_goal_node(dfs_stack[-1],visited_array,path):\n",
    "        return \"Node found\"\n",
    "    else:\n",
    "        adj_node = get_adjacent_node_dfs(dfs_stack[-1],visited_array)\n",
    "        if adj_node != -1:\n",
    "            dfs_stack.append(adj_node)\n",
    "            dfs_algorithm(visited_array,dfs_stack,path)\n",
    "        else:\n",
    "            dfs_stack.pop()\n",
    "            if len(dfs_stack)>0:\n",
    "                dfs_algorithm(visited_array,dfs_stack,path)\n",
    "            else:\n",
    "                return \"Node not found\""
   ]
  },
  {
   "cell_type": "code",
   "execution_count": 61,
   "id": "73c3c862",
   "metadata": {},
   "outputs": [],
   "source": [
    "def dfs_algorithm1(visited_array,dfs_stack,path):\n",
    "    if is_goal_node(dfs_stack[-1],visited_array,path):\n",
    "        dfs_stack.pop()\n",
    "        adj_node = get_adjacent_node_dfs(dfs_stack[-1],visited_array)\n",
    "        dfs_stack.append(adj_node)\n",
    "        change_visited_array(dfs_stack,visited_array)\n",
    "        print('x :',visited_array)\n",
    "        print('x :',dfs_stack)\n",
    "        dfs_algorithm1(visited_array,dfs_stack,path)\n",
    "        return \"node found\"\n",
    "    else:\n",
    "        adj_node = get_adjacent_node_dfs(dfs_stack[-1],visited_array)\n",
    "        if adj_node != -1:\n",
    "            dfs_stack.append(adj_node)\n",
    "            dfs_algorithm1(visited_array,dfs_stack,path)\n",
    "        else:\n",
    "            dfs_stack.pop()\n",
    "            if len(dfs_stack)>0:\n",
    "                dfs_algorithm1(visited_array,dfs_stack,path)\n",
    "            else:\n",
    "                return \"Node not found\""
   ]
  },
  {
   "cell_type": "code",
   "execution_count": 53,
   "id": "47acba26",
   "metadata": {},
   "outputs": [],
   "source": [
    "def change_visited_array(dfs_stack,visited_array):\n",
    "    visited_array = np.array(np.zeros(nodes_count))"
   ]
  },
  {
   "cell_type": "code",
   "execution_count": 9,
   "id": "ec4a2ddf",
   "metadata": {
    "scrolled": true
   },
   "outputs": [
    {
     "name": "stdout",
     "output_type": "stream",
     "text": [
      "Enter number of nodes : 8\n",
      "Enter edges from node 0 : 1:15,2:10,3:17,6:5\n",
      "Enter edges from node 1 : 3:12\n",
      "Enter edges from node 2 : 6:7\n",
      "Enter edges from node 3 : 4:2,5:10,7:4 \n",
      "Enter edges from node 4 : \n",
      "Enter edges from node 5 : 7:11\n",
      "Enter edges from node 6 : 7:25\n",
      "Enter edges from node 7 : \n"
     ]
    }
   ],
   "source": [
    "import numpy as np\n",
    "\n",
    "def read_data():\n",
    "    read_number_of_nodes()\n",
    "    read_graph()\n",
    "\n",
    "read_data()"
   ]
  },
  {
   "cell_type": "markdown",
   "id": "a66064ae",
   "metadata": {},
   "source": [
    "A=0,B=1,C=2,D=3,E=4,F=5,G=6,H=7\n",
    "A->1:15,2:10,3:17,6:5\n",
    "B->3:12\n",
    "C->6:7\n",
    "D->4:2,5:10,7:4\n",
    "E->\n",
    "F->7:11\n",
    "G->7:25\n",
    "H->"
   ]
  },
  {
   "cell_type": "code",
   "execution_count": 55,
   "id": "a07c7ca5",
   "metadata": {},
   "outputs": [],
   "source": [
    "def dfs():\n",
    "    visited_array = np.array(np.zeros(nodes_count))\n",
    "    dfs_stack = [initial_node]\n",
    "    path=[]\n",
    "    dfs_algorithm1(visited_array,dfs_stack,path)\n",
    "    display_path(path)\n",
    "    print(visited_array)\n",
    "    print(dfs_stack)\n",
    "    print('cost : ',cost(path))\n",
    "    return cost(path)"
   ]
  },
  {
   "cell_type": "code",
   "execution_count": 62,
   "id": "a5f12a1c",
   "metadata": {},
   "outputs": [
    {
     "name": "stdout",
     "output_type": "stream",
     "text": [
      "Enter Start node : 0\n",
      "Enter goal node : 5\n",
      "x : [1. 1. 0. 1. 1. 1. 0. 0.]\n",
      "x : [0, 1, 3, 7]\n",
      "path : 0->1->3->4->3->5->7->6->2->6->7->3->1->0\n",
      "[1. 1. 1. 1. 1. 1. 1. 1.]\n",
      "[]\n",
      "cost :  147.0\n"
     ]
    },
    {
     "data": {
      "text/plain": [
       "147.0"
      ]
     },
     "execution_count": 62,
     "metadata": {},
     "output_type": "execute_result"
    }
   ],
   "source": [
    "read_initial_node()\n",
    "read_goal_node()\n",
    "dfs()"
   ]
  },
  {
   "cell_type": "code",
   "execution_count": 15,
   "id": "5100f640",
   "metadata": {},
   "outputs": [
    {
     "data": {
      "text/plain": [
       "matrix([[ 0., 15., 10., 17., inf, inf,  5., inf],\n",
       "        [15.,  0., inf, 12., inf, inf, inf, inf],\n",
       "        [10., inf,  0., inf, inf, inf,  7., inf],\n",
       "        [17., 12., inf,  0.,  2., 10., inf,  4.],\n",
       "        [inf, inf, inf,  2.,  0., inf, inf, inf],\n",
       "        [inf, inf, inf, 10., inf,  0., inf, 11.],\n",
       "        [ 5., inf,  7., inf, inf, inf,  0., 25.],\n",
       "        [inf, inf, inf,  4., inf, 11., 25.,  0.]])"
      ]
     },
     "execution_count": 15,
     "metadata": {},
     "output_type": "execute_result"
    }
   ],
   "source": [
    "def all_paths(visited_array,dfs_stack):\n",
    "    if visited_array(dfs_stack[-1])==0:\n",
    "        dfs_stack.app\n",
    "   "
   ]
  },
  {
   "cell_type": "code",
   "execution_count": 22,
   "id": "430bff93",
   "metadata": {},
   "outputs": [],
   "source": [
    "visited_array = np.array(np.zeros(nodes_count))\n",
    "dfs_stack = [initial_node]"
   ]
  },
  {
   "cell_type": "code",
   "execution_count": 23,
   "id": "a8c7ff01",
   "metadata": {},
   "outputs": [
    {
     "data": {
      "text/plain": [
       "array([0., 0., 0., 0., 0., 0., 0., 0.])"
      ]
     },
     "execution_count": 23,
     "metadata": {},
     "output_type": "execute_result"
    }
   ],
   "source": [
    "visited_array"
   ]
  },
  {
   "cell_type": "code",
   "execution_count": 24,
   "id": "0e0cfe24",
   "metadata": {},
   "outputs": [
    {
     "data": {
      "text/plain": [
       "[0]"
      ]
     },
     "execution_count": 24,
     "metadata": {},
     "output_type": "execute_result"
    }
   ],
   "source": [
    "dfs_stack"
   ]
  },
  {
   "cell_type": "code",
   "execution_count": null,
   "id": "c9d775d1",
   "metadata": {},
   "outputs": [],
   "source": []
  }
 ],
 "metadata": {
  "kernelspec": {
   "display_name": "Python 3 (ipykernel)",
   "language": "python",
   "name": "python3"
  },
  "language_info": {
   "codemirror_mode": {
    "name": "ipython",
    "version": 3
   },
   "file_extension": ".py",
   "mimetype": "text/x-python",
   "name": "python",
   "nbconvert_exporter": "python",
   "pygments_lexer": "ipython3",
   "version": "3.11.2"
  }
 },
 "nbformat": 4,
 "nbformat_minor": 5
}
