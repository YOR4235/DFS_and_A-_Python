{
 "cells": [
  {
   "cell_type": "code",
   "execution_count": 2,
   "id": "7bda8dc6",
   "metadata": {},
   "outputs": [],
   "source": [
    "def read_initial_node():\n",
    "    return int(input('Enter Start node : '))\n",
    "\n",
    "def read_goal_node():\n",
    "    return int(input('Enter goal node : '))\n",
    "    \n",
    "def read_number_of_nodes():\n",
    "    return int(input('Enter number of nodes : '))"
   ]
  },
  {
   "cell_type": "code",
   "execution_count": 3,
   "id": "b195f42b-f5bc-4360-8a66-d890f74a1038",
   "metadata": {},
   "outputs": [],
   "source": [
    "def read_graph(nodes_count):\n",
    "    \n",
    "    transition_matrix = np.matrix(np.ones((nodes_count,nodes_count))*np.inf)\n",
    "    for each_node in range(nodes_count):\n",
    "        transition_matrix[each_node,each_node]=0\n",
    "        edges_with_cost = input('Enter edges from node {0} : '.format(each_node)).split(',')\n",
    "        for each_edge in edges_with_cost:\n",
    "            if each_edge:\n",
    "                transition_matrix[each_node,int(each_edge.split(':')[0])]=int(each_edge.split(':')[1])\n",
    "                transition_matrix[int(each_edge.split(':')[0]),each_node]=int(each_edge.split(':')[1])\n",
    "    return transition_matrix"
   ]
  },
  {
   "cell_type": "code",
   "execution_count": 4,
   "id": "bf94aaa3-24b0-4df6-82ef-36d54a27a756",
   "metadata": {},
   "outputs": [],
   "source": [
    "def get_adjacent_node(node,visited_array,transition_matrix):\n",
    "    for adj_node in range(nodes_count):\n",
    "        if transition_matrix[node,adj_node] not in (0,float('inf')):\n",
    "            if visited_array[adj_node]==0:\n",
    "                return adj_node\n",
    "    return -1"
   ]
  },
  {
   "cell_type": "code",
   "execution_count": 5,
   "id": "8239daa7",
   "metadata": {},
   "outputs": [],
   "source": [
    "def is_goal_node(node,visited_array):\n",
    "    visited_array[node]=1\n",
    "    if node==goal_node:\n",
    "        return True\n",
    "    return False"
   ]
  },
  {
   "cell_type": "code",
   "execution_count": 6,
   "id": "0e5e1c66",
   "metadata": {},
   "outputs": [],
   "source": [
    "def dfs_algorithm(node,visited_array,dfs_stack,transition_matrix):\n",
    "    if is_goal_node(node,visited_array):\n",
    "        print(node)\n",
    "    else:\n",
    "        print(node,end='-')\n",
    "        adj_node = get_adjacent_node(node,visited_array,transition_matrix)\n",
    "        if adj_node != -1:\n",
    "            dfs_stack.append(adj_node)\n",
    "            dfs_algorithm(adj_node,visited_array,dfs_stack,transition_matrix)\n",
    "        else:\n",
    "            dfs_stack.pop()\n",
    "            if len(dfs_stack)>0:\n",
    "                dfs_algorithm(dfs_stack[-1],visited_array,dfs_stack,transition_matrix)\n",
    "            else:\n",
    "                return \"node not found\""
   ]
  },
  {
   "cell_type": "code",
   "execution_count": null,
   "id": "ec4a2ddf",
   "metadata": {
    "scrolled": true
   },
   "outputs": [
    {
     "name": "stdout",
     "output_type": "stream",
     "text": [
      "Enter number of nodes : 8\n",
      "Enter Start node : 0\n",
      "Enter goal node : 5\n"
     ]
    }
   ],
   "source": [
    "import numpy as np\n",
    "\n",
    "nodes_count = read_number_of_nodes()\n",
    "initial_node = read_initial_node()\n",
    "goal_node = read_goal_node()\n",
    "transition_matrix = read_graph(nodes_count)"
   ]
  },
  {
   "cell_type": "code",
   "execution_count": 238,
   "id": "a07c7ca5",
   "metadata": {},
   "outputs": [
    {
     "name": "stdout",
     "output_type": "stream",
     "text": [
      "0-1-3-4-3-5-7-6-2\n"
     ]
    }
   ],
   "source": [
    "#DFS\n",
    "visited_array = np.array(np.zeros(nodes_count))\n",
    "dfs_stack = [initial_node]\n",
    "dfs_algorithm(initial_node,visited_array,dfs_stack,transition_matrix)"
   ]
  },
  {
   "cell_type": "code",
   "execution_count": 1,
   "id": "a5f12a1c",
   "metadata": {},
   "outputs": [
    {
     "ename": "NameError",
     "evalue": "name 'transition_matrix' is not defined",
     "output_type": "error",
     "traceback": [
      "\u001b[1;31m---------------------------------------------------------------------------\u001b[0m",
      "\u001b[1;31mNameError\u001b[0m                                 Traceback (most recent call last)",
      "Cell \u001b[1;32mIn[1], line 1\u001b[0m\n\u001b[1;32m----> 1\u001b[0m \u001b[43mtransition_matrix\u001b[49m\n",
      "\u001b[1;31mNameError\u001b[0m: name 'transition_matrix' is not defined"
     ]
    }
   ],
   "source": []
  },
  {
   "cell_type": "code",
   "execution_count": null,
   "id": "71a02daa",
   "metadata": {},
   "outputs": [],
   "source": []
  }
 ],
 "metadata": {
  "kernelspec": {
   "display_name": "Python 3 (ipykernel)",
   "language": "python",
   "name": "python3"
  },
  "language_info": {
   "codemirror_mode": {
    "name": "ipython",
    "version": 3
   },
   "file_extension": ".py",
   "mimetype": "text/x-python",
   "name": "python",
   "nbconvert_exporter": "python",
   "pygments_lexer": "ipython3",
   "version": "3.11.2"
  }
 },
 "nbformat": 4,
 "nbformat_minor": 5
}
