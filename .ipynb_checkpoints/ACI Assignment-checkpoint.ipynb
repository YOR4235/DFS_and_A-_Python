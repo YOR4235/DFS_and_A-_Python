{
 "cells": [
  {
   "cell_type": "code",
   "execution_count": 415,
   "id": "7bda8dc6",
   "metadata": {},
   "outputs": [],
   "source": [
    "#Read input graph and data\n",
    "def read_initial_node(): \n",
    "    initial_node = int(input('Enter Start node {0,1,2..}: '))\n",
    "    return initial_node\n",
    "\n",
    "def read_goal_node():\n",
    "    goal_node = int(input('Enter goal node {0,1,2..}: '))\n",
    "    return goal_node\n",
    "    \n",
    "def read_number_of_nodes():\n",
    "    global nodes_count\n",
    "    nodes_count = int(input('Enter number of nodes : '))\n",
    "    return nodes_count\n",
    "\n",
    "def read_graph():\n",
    "    global transition_matrix\n",
    "    transition_matrix = np.matrix(np.ones((nodes_count,nodes_count))*np.inf)\n",
    "    for each_node in range(nodes_count):\n",
    "        transition_matrix[each_node,each_node]=0\n",
    "        edges_with_cost = input('Enter edges from node {0} : '.format(each_node)).split(',')\n",
    "        for each_edge in edges_with_cost:\n",
    "            if each_edge:\n",
    "                transition_matrix[each_node,int(each_edge.split(':')[0])]=int(each_edge.split(':')[1])\n",
    "                transition_matrix[int(each_edge.split(':')[0]),each_node]=int(each_edge.split(':')[1])\n",
    "    return transition_matrix"
   ]
  },
  {
   "cell_type": "code",
   "execution_count": 408,
   "id": "b76bfc5e",
   "metadata": {},
   "outputs": [],
   "source": [
    "#checking goal node and getting adjacent nodes\n",
    "def node_reach_goal_node(path,goal_node):\n",
    "    if path[-1] == goal_node:\n",
    "        return True\n",
    "    return False\n",
    "\n",
    "def get_adj_nodes(nodes):\n",
    "    adj_nodes = []\n",
    "    for adj_node in range(nodes_count):\n",
    "        if transition_matrix[nodes[-1],adj_node] not in (0,float('inf')) and adj_node not in nodes:\n",
    "            adj_nodes.append(nodes + [adj_node])\n",
    "    return adj_nodes"
   ]
  },
  {
   "cell_type": "code",
   "execution_count": 409,
   "id": "ee22c295",
   "metadata": {},
   "outputs": [],
   "source": [
    "#finding cost and displaying path\n",
    "def find_cost(path):\n",
    "    cost=0\n",
    "    for index in range(len(path)-1):\n",
    "        cost += transition_matrix[path[index],path[index+1]]\n",
    "    return cost\n",
    "def display_path(path):\n",
    "    print('path : ',end='')\n",
    "    print('->'.join(chr(node+65) for node in path))"
   ]
  },
  {
   "cell_type": "code",
   "execution_count": 410,
   "id": "0077433d",
   "metadata": {},
   "outputs": [],
   "source": [
    "#DEPTH FIRST SEARCH\n",
    "def dfs_algorithm(dfs_stack,goal_node):\n",
    "    if node_reach_goal_node(dfs_stack[-1],goal_node):\n",
    "        return dfs_stack[-1]\n",
    "    else:\n",
    "        nodes = dfs_stack.pop()\n",
    "        adj_nodes = get_adj_nodes(nodes)\n",
    "        if len(adj_nodes) > 0:\n",
    "            dfs_stack += adj_nodes\n",
    "        return dfs_algorithm(dfs_stack,goal_node)\n",
    "    \n",
    "def dfs(initial_node,goal_node):\n",
    "    path = dfs_algorithm([[initial_node]],goal_node)\n",
    "    display_path(path)\n",
    "    print('cost : ',find_cost(path))"
   ]
  },
  {
   "cell_type": "code",
   "execution_count": 422,
   "id": "976b86c4",
   "metadata": {},
   "outputs": [],
   "source": [
    "#Hueristic Design\n",
    "def all_possible_paths(dfs_stack,goal_node,paths=[]):\n",
    "    if len(dfs_stack) == 0:\n",
    "        total_cost = 0\n",
    "        for nodes in paths:\n",
    "            total_cost += find_cost(nodes)\n",
    "        if len(paths) == 0:\n",
    "            return 0;\n",
    "        avg_cost = total_cost/len(paths)\n",
    "        return round(avg_cost,2)\n",
    "    elif node_reach_goal_node(dfs_stack[-1],goal_node):\n",
    "        #display_path(dfs_stack[-1])\n",
    "        paths.append(dfs_stack[-1])\n",
    "        dfs_stack.pop()\n",
    "        return all_possible_paths(dfs_stack,goal_node,paths)\n",
    "    else:\n",
    "        nodes = dfs_stack.pop()\n",
    "        adj_nodes = get_adj_nodes(nodes)\n",
    "        if len(adj_nodes) > 0:\n",
    "            dfs_stack += adj_nodes\n",
    "        return all_possible_paths(dfs_stack,goal_node,paths)\n",
    "\n",
    "def find_hueristic_values(goal_node):\n",
    "    hue_values = []\n",
    "    for node in range(nodes_count):\n",
    "        avg_cost = all_possible_paths([[node]],goal_node,[])\n",
    "        hue_values.append(avg_cost)\n",
    "    return hue_values\n",
    "\n",
    "def sort_stack_by_cost(dfs_stack,hue_values):\n",
    "    for i in range(len(dfs_stack)):\n",
    "        for j in range(i+1,len(dfs_stack)):\n",
    "            if (find_cost(dfs_stack[i])+hue_values[dfs_stack[i][-1]])<(find_cost(dfs_stack[j])+hue_values[dfs_stack[j][-1]]):\n",
    "                temp=dfs_stack[i]\n",
    "                dfs_stack[i]=dfs_stack[j]\n",
    "                dfs_stack[j]=temp\n",
    "    return dfs_stack"
   ]
  },
  {
   "cell_type": "code",
   "execution_count": 412,
   "id": "61310927",
   "metadata": {},
   "outputs": [],
   "source": [
    "#A_STAR\n",
    "def a_star_algorithm(dfs_stack,hue_values,goal_node):\n",
    "    if node_reach_goal_node(dfs_stack[-1],goal_node):\n",
    "        return dfs_stack[-1]\n",
    "    else:\n",
    "        nodes = dfs_stack.pop()\n",
    "        adj_nodes = get_adj_nodes(nodes)\n",
    "        if len(adj_nodes) > 0:\n",
    "            dfs_stack += adj_nodes\n",
    "        dfs_stack = sort_stack_by_cost(dfs_stack,hue_values)\n",
    "        return a_star_algorithm(dfs_stack,hue_values,goal_node)\n",
    "\n",
    "def a_star(initial_node,goal_node):\n",
    "    hue_values = find_hueristic_values(goal_node)\n",
    "    print(\"hueristic values : \",hue_values)\n",
    "    path = a_star_algorithm([[initial_node]],hue_values,goal_node)\n",
    "    display_path(path)\n",
    "    print('cost : ',find_cost(path))"
   ]
  },
  {
   "cell_type": "raw",
   "id": "26941829",
   "metadata": {},
   "source": [
    "A=0,B=1,C=2,D=3,E=4,F=5,G=6,H=7\n",
    "A->1:15,2:10,3:17,6:5\n",
    "B->3:12\n",
    "C->6:7\n",
    "D->4:2,5:10,7:4\n",
    "E->\n",
    "F->7:11\n",
    "G->7:25\n",
    "H->"
   ]
  },
  {
   "cell_type": "code",
   "execution_count": 413,
   "id": "96d39ed0",
   "metadata": {},
   "outputs": [],
   "source": [
    "#Read input graph\n",
    "def read_data():\n",
    "    read_number_of_nodes()\n",
    "    read_graph()\n",
    "\n",
    "#Main method\n",
    "def main():\n",
    "    #read_data()\n",
    "    initial_node = read_initial_node()\n",
    "    goal_node = read_goal_node()\n",
    "    print(\"---------DFS-----------\")\n",
    "    dfs(initial_node,goal_node)\n",
    "    print(\"---------A star-----------\")\n",
    "    a_star(initial_node,goal_node)"
   ]
  },
  {
   "cell_type": "code",
   "execution_count": 418,
   "id": "35c63cfd",
   "metadata": {},
   "outputs": [
    {
     "name": "stdout",
     "output_type": "stream",
     "text": [
      "Enter Start node {0,1,2..}: 5\n",
      "Enter goal node {0,1,2..}: 1\n",
      "---------DFS-----------\n",
      "path : F->H->G->C->A->D->B\n",
      "cost :  82.0\n",
      "---------A star-----------\n",
      "hueristic values :  [47.67, 0.0, 52.7, 49.67, 51.67, 54.4, 46.25, 46.25]\n",
      "path : F->D->B\n",
      "cost :  22.0\n"
     ]
    }
   ],
   "source": [
    "#Start from here\n",
    "if __name__ == '__main__':\n",
    "    main()"
   ]
  },
  {
   "cell_type": "markdown",
   "id": "96b974dd",
   "metadata": {},
   "source": [
    "DFS is bruteforce apporoach to find the path from source node to destination node, where as a_star will keep on seraching for optimal solution even if we find the solution."
   ]
  },
  {
   "cell_type": "code",
   "execution_count": 426,
   "id": "610262f2",
   "metadata": {},
   "outputs": [
    {
     "name": "stdout",
     "output_type": "stream",
     "text": [
      "Time complexity for DFS    : 0(n^2)\n",
      "Time complexity for ASTAR  : 0(n^2)\n",
      "Space complexity for DFS   : 0(n)\n",
      "Space complexity for ASTAR : 0(n)\n"
     ]
    }
   ],
   "source": [
    "print('Time complexity for DFS    : 0(n^2)')\n",
    "print('Time complexity for ASTAR  : 0(n^2)')\n",
    "print('Space complexity for DFS   : 0(n)')\n",
    "print('Space complexity for ASTAR : 0(n)')"
   ]
  },
  {
   "cell_type": "code",
   "execution_count": null,
   "id": "49039f6e",
   "metadata": {},
   "outputs": [],
   "source": []
  }
 ],
 "metadata": {
  "kernelspec": {
   "display_name": "Python 3 (ipykernel)",
   "language": "python",
   "name": "python3"
  },
  "language_info": {
   "codemirror_mode": {
    "name": "ipython",
    "version": 3
   },
   "file_extension": ".py",
   "mimetype": "text/x-python",
   "name": "python",
   "nbconvert_exporter": "python",
   "pygments_lexer": "ipython3",
   "version": "3.11.2"
  }
 },
 "nbformat": 4,
 "nbformat_minor": 5
}
