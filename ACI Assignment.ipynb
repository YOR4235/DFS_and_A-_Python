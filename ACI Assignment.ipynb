{
 "cells": [
  {
   "cell_type": "code",
   "execution_count": 181,
   "id": "7bda8dc6",
   "metadata": {},
   "outputs": [],
   "source": [
    "#Read input graph and data\n",
    "def read_initial_node():\n",
    "    global initial_node \n",
    "    initial_node = int(input('Enter Start node : '))\n",
    "\n",
    "def read_goal_node():\n",
    "    global goal_node\n",
    "    goal_node = int(input('Enter goal node : '))\n",
    "    \n",
    "def read_number_of_nodes():\n",
    "    global nodes_count\n",
    "    nodes_count = int(input('Enter number of nodes : '))\n",
    "\n",
    "def read_graph():\n",
    "    global transition_matrix\n",
    "    transition_matrix = np.matrix(np.ones((nodes_count,nodes_count))*np.inf)\n",
    "    for each_node in range(nodes_count):\n",
    "        transition_matrix[each_node,each_node]=0\n",
    "        edges_with_cost = input('Enter edges from node {0} : '.format(each_node)).split(',')\n",
    "        for each_edge in edges_with_cost:\n",
    "            if each_edge:\n",
    "                transition_matrix[each_node,int(each_edge.split(':')[0])]=int(each_edge.split(':')[1])\n",
    "                transition_matrix[int(each_edge.split(':')[0]),each_node]=int(each_edge.split(':')[1])"
   ]
  },
  {
   "cell_type": "code",
   "execution_count": 182,
   "id": "3ef9871d",
   "metadata": {},
   "outputs": [],
   "source": [
    "def get_adjacent_nodes(node,visited_array):\n",
    "    adj_nodes = []\n",
    "    for adj_node in range(nodes_count):\n",
    "        if transition_matrix[node,adj_node] not in (0,float('inf')):\n",
    "            if visited_array[adj_node]==0:\n",
    "                adj_nodes.append(adj_node)\n",
    "    return adj_nodes\n",
    "\n",
    "def is_goal_node(node):\n",
    "    if node==goal_node:\n",
    "        return True\n",
    "    return False"
   ]
  },
  {
   "cell_type": "code",
   "execution_count": 183,
   "id": "9d558a70",
   "metadata": {},
   "outputs": [],
   "source": [
    "def cost(path):\n",
    "    cost=0\n",
    "    for index in range(len(path)-1):\n",
    "        cost+=transition_matrix[path[index],path[index+1]]\n",
    "    return cost\n",
    "def display_path(path):\n",
    "    delim = \"->\"\n",
    "    print('path :',str(delim.join(map(str, path))))"
   ]
  },
  {
   "cell_type": "raw",
   "id": "20645ceb",
   "metadata": {},
   "source": [
    "A=0,B=1,C=2,D=3,E=4,F=5,G=6,H=7\n",
    "A->1:15,2:10,3:17,6:5\n",
    "B->3:12\n",
    "C->6:7\n",
    "D->4:2,5:10,7:4\n",
    "E->\n",
    "F->7:11\n",
    "G->7:25\n",
    "H->"
   ]
  },
  {
   "cell_type": "code",
   "execution_count": 184,
   "id": "04025004",
   "metadata": {},
   "outputs": [],
   "source": [
    "def dfs_algorithm(visited_array,dfs_stack,path):\n",
    "    \n",
    "    node = dfs_stack[-1]\n",
    "    visited_array[node]=1\n",
    "    path.append(node)\n",
    "    \n",
    "    if is_goal_node(node):\n",
    "        return \"Node found\"\n",
    "    \n",
    "    else:\n",
    "        adj_nodes = []\n",
    "        adj_nodes = get_adjacent_nodes(node,visited_array)\n",
    "        dfs_stack.pop()\n",
    "        if len(adj_nodes) > 0:\n",
    "            dfs_stack+=adj_nodes\n",
    "            dfs_algorithm(visited_array,dfs_stack,path)\n",
    "        else:\n",
    "            if len(dfs_stack)>0:\n",
    "                dfs_algorithm(visited_array,dfs_stack,path)\n",
    "            else:\n",
    "                return \"Node not found\"\n",
    "\n",
    "def dfs():\n",
    "    visited_array = np.array(np.zeros(nodes_count))\n",
    "    dfs_stack = [initial_node]\n",
    "    path=[]\n",
    "    dfs_algorithm(visited_array,dfs_stack,path)\n",
    "    display_path(path)\n",
    "    print('cost : ',cost(path))\n",
    "    print(visited_array)\n",
    "    print(dfs_stack)\n",
    "    return cost(path)"
   ]
  },
  {
   "cell_type": "code",
   "execution_count": 9,
   "id": "ec4a2ddf",
   "metadata": {
    "scrolled": true
   },
   "outputs": [
    {
     "name": "stdout",
     "output_type": "stream",
     "text": [
      "Enter number of nodes : 8\n",
      "Enter edges from node 0 : 1:15,2:10,3:17,6:5\n",
      "Enter edges from node 1 : 3:12\n",
      "Enter edges from node 2 : 6:7\n",
      "Enter edges from node 3 : 4:2,5:10,7:4 \n",
      "Enter edges from node 4 : \n",
      "Enter edges from node 5 : 7:11\n",
      "Enter edges from node 6 : 7:25\n",
      "Enter edges from node 7 : \n"
     ]
    }
   ],
   "source": [
    "import numpy as np\n",
    "\n",
    "def read_data():\n",
    "    read_number_of_nodes()\n",
    "    read_graph()\n",
    "\n",
    "read_data()"
   ]
  },
  {
   "cell_type": "code",
   "execution_count": 185,
   "id": "a5f12a1c",
   "metadata": {},
   "outputs": [
    {
     "name": "stdout",
     "output_type": "stream",
     "text": [
      "Enter Start node : 0\n",
      "Enter goal node : 3\n",
      "path : 0->6->7->5->3\n",
      "cost :  51.0\n",
      "[1. 0. 0. 1. 0. 1. 1. 1.]\n",
      "[1, 2, 3, 2, 3, 3]\n"
     ]
    },
    {
     "data": {
      "text/plain": [
       "51.0"
      ]
     },
     "execution_count": 185,
     "metadata": {},
     "output_type": "execute_result"
    }
   ],
   "source": [
    "read_initial_node()\n",
    "read_goal_node()\n",
    "dfs()"
   ]
  },
  {
   "cell_type": "code",
   "execution_count": null,
   "id": "342aefca",
   "metadata": {},
   "outputs": [],
   "source": []
  }
 ],
 "metadata": {
  "kernelspec": {
   "display_name": "Python 3 (ipykernel)",
   "language": "python",
   "name": "python3"
  },
  "language_info": {
   "codemirror_mode": {
    "name": "ipython",
    "version": 3
   },
   "file_extension": ".py",
   "mimetype": "text/x-python",
   "name": "python",
   "nbconvert_exporter": "python",
   "pygments_lexer": "ipython3",
   "version": "3.11.2"
  }
 },
 "nbformat": 4,
 "nbformat_minor": 5
}
