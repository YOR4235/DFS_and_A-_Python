{
 "cells": [
  {
   "cell_type": "code",
   "execution_count": 185,
   "id": "7bda8dc6",
   "metadata": {},
   "outputs": [],
   "source": [
    "#Read input graph and data\n",
    "def read_initial_node():\n",
    "    global initial_node \n",
    "    initial_node = int(input('Enter Start node : '))\n",
    "\n",
    "def read_goal_node():\n",
    "    global goal_node\n",
    "    goal_node = int(input('Enter goal node : '))\n",
    "    \n",
    "def read_number_of_nodes():\n",
    "    global nodes_count\n",
    "    nodes_count = int(input('Enter number of nodes : '))\n",
    "\n",
    "def read_graph():\n",
    "    global transition_matrix\n",
    "    transition_matrix = np.matrix(np.ones((nodes_count,nodes_count))*np.inf)\n",
    "    for each_node in range(nodes_count):\n",
    "        transition_matrix[each_node,each_node]=0\n",
    "        edges_with_cost = input('Enter edges from node {0} : '.format(each_node)).split(',')\n",
    "        for each_edge in edges_with_cost:\n",
    "            if each_edge:\n",
    "                transition_matrix[each_node,int(each_edge.split(':')[0])]=int(each_edge.split(':')[1])\n",
    "                transition_matrix[int(each_edge.split(':')[0]),each_node]=int(each_edge.split(':')[1])"
   ]
  },
  {
   "cell_type": "raw",
   "id": "1810a456",
   "metadata": {},
   "source": [
    "A=0,B=1,C=2,D=3,E=4,F=5,G=6,H=7\n",
    "A->1:15,2:10,3:17,6:5\n",
    "B->3:12\n",
    "C->6:7\n",
    "D->4:2,5:10,7:4\n",
    "E->\n",
    "F->7:11\n",
    "G->7:25\n",
    "H->"
   ]
  },
  {
   "cell_type": "code",
   "execution_count": 7,
   "id": "ec4a2ddf",
   "metadata": {
    "scrolled": true
   },
   "outputs": [
    {
     "name": "stdout",
     "output_type": "stream",
     "text": [
      "Enter number of nodes : 8\n",
      "Enter edges from node 0 : 1:15,2:10,3:17,6:5\n",
      "Enter edges from node 1 : 3:12\n",
      "Enter edges from node 2 : 6:7\n",
      "Enter edges from node 3 : 4:2,5:10,7:4\n",
      "Enter edges from node 4 : \n",
      "Enter edges from node 5 : 7:11\n",
      "Enter edges from node 6 : 7:25\n",
      "Enter edges from node 7 : \n"
     ]
    }
   ],
   "source": [
    "import numpy as np\n",
    "\n",
    "def read_data():\n",
    "    read_number_of_nodes()\n",
    "    read_graph()\n",
    "\n",
    "read_data()"
   ]
  },
  {
   "cell_type": "code",
   "execution_count": 186,
   "id": "df4d1927",
   "metadata": {},
   "outputs": [],
   "source": [
    "def node_reach_goal_node(path):\n",
    "    if path[-1] == goal_node:\n",
    "        return True\n",
    "    return False\n",
    "def get_adj_nodes(nodes):\n",
    "    adj_nodes = []\n",
    "    for adj_node in range(nodes_count):\n",
    "        if transition_matrix[nodes[-1],adj_node] not in (0,float('inf')) and adj_node not in nodes:\n",
    "            adj_nodes.append(nodes + [adj_node])\n",
    "    return adj_nodes"
   ]
  },
  {
   "cell_type": "code",
   "execution_count": 187,
   "id": "70e57b20",
   "metadata": {},
   "outputs": [],
   "source": [
    "def find_cost(path):\n",
    "    cost=0\n",
    "    for index in range(len(path)-1):\n",
    "        cost += transition_matrix[path[index],path[index+1]]\n",
    "    return cost\n",
    "def display_path(path):\n",
    "    delim = \"->\"\n",
    "    print('path :',str(delim.join(map(str, path))))"
   ]
  },
  {
   "cell_type": "code",
   "execution_count": 188,
   "id": "2afefe93",
   "metadata": {},
   "outputs": [],
   "source": [
    "def dfs(dfs_stack=[[initial_node]]):\n",
    "    if node_reach_goal_node(dfs_stack[-1]):\n",
    "        return dfs_stack[-1]\n",
    "    else:\n",
    "        nodes = dfs_stack.pop()\n",
    "        adj_nodes = get_adj_nodes(nodes)\n",
    "        if len(adj_nodes) > 0:\n",
    "            dfs_stack += adj_nodes\n",
    "        return dfs(dfs_stack)"
   ]
  },
  {
   "cell_type": "code",
   "execution_count": 189,
   "id": "ae7bf59d",
   "metadata": {},
   "outputs": [],
   "source": [
    "def all_possible_paths(dfs_stack=[[initial_node]],paths=[]):\n",
    "    if len(dfs_stack) == 0:\n",
    "        total_cost = 0\n",
    "        for nodes in paths:\n",
    "            total_cost += find_cost(nodes)\n",
    "        avg_cost = total_cost/len(paths)\n",
    "        return avg_cost\n",
    "    elif node_reach_goal_node(dfs_stack[-1]):\n",
    "        print(dfs_stack[-1])\n",
    "        paths.append(dfs_stack[-1])\n",
    "        dfs_stack.pop()\n",
    "        return all_possible_paths(dfs_stack,paths)\n",
    "    else:\n",
    "        nodes = dfs_stack.pop()\n",
    "        adj_nodes = get_adj_nodes(nodes)\n",
    "        if len(adj_nodes) > 0:\n",
    "            dfs_stack += adj_nodes\n",
    "        return all_possible_paths(dfs_stack,paths)"
   ]
  },
  {
   "cell_type": "code",
   "execution_count": 190,
   "id": "5f62f4a3",
   "metadata": {},
   "outputs": [
    {
     "name": "stdout",
     "output_type": "stream",
     "text": [
      "Enter Start node : 0\n",
      "Enter goal node : 5\n",
      "[0, 6, 7, 5]\n"
     ]
    }
   ],
   "source": [
    "read_initial_node()\n",
    "read_goal_node()\n",
    "display_pathsdfs())"
   ]
  },
  {
   "cell_type": "code",
   "execution_count": null,
   "id": "cc9d02d3",
   "metadata": {},
   "outputs": [],
   "source": []
  }
 ],
 "metadata": {
  "kernelspec": {
   "display_name": "Python 3 (ipykernel)",
   "language": "python",
   "name": "python3"
  },
  "language_info": {
   "codemirror_mode": {
    "name": "ipython",
    "version": 3
   },
   "file_extension": ".py",
   "mimetype": "text/x-python",
   "name": "python",
   "nbconvert_exporter": "python",
   "pygments_lexer": "ipython3",
   "version": "3.11.2"
  }
 },
 "nbformat": 4,
 "nbformat_minor": 5
}
