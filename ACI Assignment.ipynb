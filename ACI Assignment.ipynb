{
 "cells": [
  {
   "cell_type": "code",
   "execution_count": 133,
   "id": "7bda8dc6",
   "metadata": {},
   "outputs": [],
   "source": [
    "def read_initial_node():\n",
    "    global initial_node \n",
    "    initial_node = int(input('Enter Start node : '))\n",
    "\n",
    "def read_goal_node():\n",
    "    global goal_node\n",
    "    goal_node = int(input('Enter goal node : '))\n",
    "    \n",
    "def read_number_of_nodes():\n",
    "    global nodes_count\n",
    "    nodes_count = int(input('Enter number of nodes : '))\n",
    "\n",
    "    "
   ]
  },
  {
   "cell_type": "code",
   "execution_count": 134,
   "id": "b195f42b-f5bc-4360-8a66-d890f74a1038",
   "metadata": {},
   "outputs": [],
   "source": []
  },
  {
   "cell_type": "code",
   "execution_count": 168,
   "id": "4f8386af",
   "metadata": {},
   "outputs": [],
   "source": [
    "def get_adjacent_nodes(node,visited_array):\n",
    "    adj_nodes = []\n",
    "    for adj_node in range(nodes_count):\n",
    "        if transition_matrix[node,adj_node] not in (0,float('inf')):\n",
    "            if visited_array[adj_node]==0:\n",
    "                adj_nodes.append(adj_node)\n",
    "    return adj_nodes\n",
    "\n",
    "def is_goal_node(node):\n",
    "    if node==goal_node:\n",
    "        return True\n",
    "    return False"
   ]
  },
  {
   "cell_type": "code",
   "execution_count": 153,
   "id": "8239daa7",
   "metadata": {},
   "outputs": [],
   "source": []
  },
  {
   "cell_type": "code",
   "execution_count": 154,
   "id": "9d558a70",
   "metadata": {},
   "outputs": [],
   "source": [
    "def cost(path):\n",
    "    cost=0\n",
    "    for index in range(len(path)-1):\n",
    "        cost+=transition_matrix[path[index],path[index+1]]\n",
    "    return cost\n",
    "def display_path(path):\n",
    "    delim = \"->\"\n",
    "    print('path :',str(delim.join(map(str, path))))"
   ]
  },
  {
   "cell_type": "code",
   "execution_count": 172,
   "id": "0e5e1c66",
   "metadata": {},
   "outputs": [],
   "source": [
    "def dfs_algorithm(visited_array,dfs_stack,path):\n",
    "    \n",
    "    node = dfs_stack[-1]\n",
    "    visited_array[node]=1\n",
    "    path.append(node)\n",
    "    \n",
    "    if is_goal_node(node):\n",
    "        return \"Node found\"\n",
    "    \n",
    "    else:\n",
    "        adj_nodes = []\n",
    "        adj_nodes = get_adjacent_nodes(node,visited_array)\n",
    "        dfs_stack.pop()\n",
    "        if len(adj_nodes) > 0:\n",
    "            dfs_stack+=adj_nodes\n",
    "            dfs_algorithm(visited_array,dfs_stack,path)\n",
    "        else:\n",
    "            if len(dfs_stack)>0:\n",
    "                dfs_algorithm(visited_array,dfs_stack,path)\n",
    "            else:\n",
    "                return \"Node not found\"\n",
    "\n",
    "def dfs():\n",
    "    visited_array = np.array(np.zeros(nodes_count))\n",
    "    dfs_stack = [initial_node]\n",
    "    path=[]\n",
    "    dfs_algorithm(visited_array,dfs_stack,path)\n",
    "    display_path(path)\n",
    "    print('cost : ',cost(path))\n",
    "    print(visited_array)\n",
    "    print(dfs_stack)\n",
    "    return cost(path)"
   ]
  },
  {
   "cell_type": "code",
   "execution_count": 9,
   "id": "ec4a2ddf",
   "metadata": {
    "scrolled": true
   },
   "outputs": [
    {
     "name": "stdout",
     "output_type": "stream",
     "text": [
      "Enter number of nodes : 8\n",
      "Enter edges from node 0 : 1:15,2:10,3:17,6:5\n",
      "Enter edges from node 1 : 3:12\n",
      "Enter edges from node 2 : 6:7\n",
      "Enter edges from node 3 : 4:2,5:10,7:4 \n",
      "Enter edges from node 4 : \n",
      "Enter edges from node 5 : 7:11\n",
      "Enter edges from node 6 : 7:25\n",
      "Enter edges from node 7 : \n"
     ]
    }
   ],
   "source": [
    "import numpy as np\n",
    "\n",
    "def read_data():\n",
    "    read_number_of_nodes()\n",
    "    read_graph()\n",
    "\n",
    "read_data()"
   ]
  },
  {
   "cell_type": "markdown",
   "id": "a66064ae",
   "metadata": {},
   "source": [
    "A=0,B=1,C=2,D=3,E=4,F=5,G=6,H=7\n",
    "A->1:15,2:10,3:17,6:5\n",
    "B->3:12\n",
    "C->6:7\n",
    "D->4:2,5:10,7:4\n",
    "E->\n",
    "F->7:11\n",
    "G->7:25\n",
    "H->"
   ]
  },
  {
   "cell_type": "code",
   "execution_count": 173,
   "id": "a07c7ca5",
   "metadata": {},
   "outputs": [],
   "source": [
    "def dfs():\n",
    "    visited_array = np.array(np.zeros(nodes_count))\n",
    "    dfs_stack = [initial_node]\n",
    "    path=[]\n",
    "    dfs_algorithm(visited_array,dfs_stack,path)\n",
    "    display_path(path)\n",
    "    print(visited_array)\n",
    "    print(dfs_stack)\n",
    "    print('cost : ',cost(path))\n",
    "    return cost(path)"
   ]
  },
  {
   "cell_type": "code",
   "execution_count": 174,
   "id": "a5f12a1c",
   "metadata": {},
   "outputs": [
    {
     "name": "stdout",
     "output_type": "stream",
     "text": [
      "Enter Start node : 0\n",
      "Enter goal node : 6\n",
      "path : 0->6\n",
      "[1. 0. 0. 0. 0. 0. 1. 0.]\n",
      "[1, 2, 3, 6]\n",
      "cost :  5.0\n"
     ]
    },
    {
     "data": {
      "text/plain": [
       "5.0"
      ]
     },
     "execution_count": 174,
     "metadata": {},
     "output_type": "execute_result"
    }
   ],
   "source": [
    "read_initial_node()\n",
    "read_goal_node()\n",
    "dfs()"
   ]
  },
  {
   "cell_type": "code",
   "execution_count": 122,
   "id": "5efbe071",
   "metadata": {},
   "outputs": [],
   "source": [
    "def get_hueristic_values(g_node):\n",
    "    hue_values = []\n",
    "    goal_node = g_node\n",
    "    for node in range(nodes_count):\n",
    "        print(goal_node)\n",
    "        initial_node = node\n",
    "        hue_values.append(dfs())\n",
    "    return hue_values\n",
    "    "
   ]
  },
  {
   "cell_type": "code",
   "execution_count": 123,
   "id": "b075563f",
   "metadata": {},
   "outputs": [
    {
     "name": "stdout",
     "output_type": "stream",
     "text": [
      "4\n",
      "path : 0->1->3->4->3->5\n",
      "[1. 1. 0. 1. 1. 1. 0. 0.]\n",
      "[0, 1, 3, 5]\n",
      "cost :  41.0\n",
      "4\n",
      "path : 0->1->3->4->3->5\n",
      "[1. 1. 0. 1. 1. 1. 0. 0.]\n",
      "[0, 1, 3, 5]\n",
      "cost :  41.0\n",
      "4\n",
      "path : 0->1->3->4->3->5\n",
      "[1. 1. 0. 1. 1. 1. 0. 0.]\n",
      "[0, 1, 3, 5]\n",
      "cost :  41.0\n",
      "4\n",
      "path : 0->1->3->4->3->5\n",
      "[1. 1. 0. 1. 1. 1. 0. 0.]\n",
      "[0, 1, 3, 5]\n",
      "cost :  41.0\n",
      "4\n",
      "path : 0->1->3->4->3->5\n",
      "[1. 1. 0. 1. 1. 1. 0. 0.]\n",
      "[0, 1, 3, 5]\n",
      "cost :  41.0\n",
      "4\n",
      "path : 0->1->3->4->3->5\n",
      "[1. 1. 0. 1. 1. 1. 0. 0.]\n",
      "[0, 1, 3, 5]\n",
      "cost :  41.0\n",
      "4\n",
      "path : 0->1->3->4->3->5\n",
      "[1. 1. 0. 1. 1. 1. 0. 0.]\n",
      "[0, 1, 3, 5]\n",
      "cost :  41.0\n",
      "4\n",
      "path : 0->1->3->4->3->5\n",
      "[1. 1. 0. 1. 1. 1. 0. 0.]\n",
      "[0, 1, 3, 5]\n",
      "cost :  41.0\n",
      "[41.0, 41.0, 41.0, 41.0, 41.0, 41.0, 41.0, 41.0]\n"
     ]
    }
   ],
   "source": [
    "print(get_hueristic_values(4))"
   ]
  },
  {
   "cell_type": "code",
   "execution_count": 85,
   "id": "65705560",
   "metadata": {},
   "outputs": [],
   "source": [
    "def dfs_algorithm1(visited_array,dfs_stack,path):\n",
    "    if is_goal_node(dfs_stack[-1],visited_array,path):\n",
    "        dfs_stack.pop()\n",
    "        adj_node = get_adjacent_node_dfs(dfs_stack[-1],visited_array)\n",
    "        print(adj_node)\n",
    "        if adj_node != -1:\n",
    "            dfs_stack.append(adj_node)\n",
    "            visited_array = np.array(np.zeros(nodes_count))\n",
    "            for v in dfs_stack:\n",
    "                visited_array[v]=1\n",
    "            print('x :',visited_array)\n",
    "            print('x :',dfs_stack)\n",
    "            print('y :',path)\n",
    "            dfs_algorithm1(visited_array,dfs_stack,path)\n",
    "            print(\"top of the stack :\",dfs_stack[-1])\n",
    "        return \"node found\"\n",
    "    else:\n",
    "        adj_node = get_adjacent_node_dfs(dfs_stack[-1],visited_array)\n",
    "        if adj_node != -1:\n",
    "            dfs_stack.append(adj_node)\n",
    "            dfs_algorithm1(visited_array,dfs_stack,path)\n",
    "        else:\n",
    "            print('backtrack : ',dfs_stack)\n",
    "            dfs_stack.pop()\n",
    "            if len(dfs_stack)>0:\n",
    "                dfs_algorithm1(visited_array,dfs_stack,path)\n",
    "            else:\n",
    "                return \"Node not found\""
   ]
  },
  {
   "cell_type": "code",
   "execution_count": 148,
   "id": "430bff93",
   "metadata": {},
   "outputs": [],
   "source": [
    "visited_array = np.array(np.zeros(nodes_count))\n",
    "dfs_stack = [0]"
   ]
  },
  {
   "cell_type": "code",
   "execution_count": 151,
   "id": "ff1c0643",
   "metadata": {},
   "outputs": [
    {
     "data": {
      "text/plain": [
       "[1, 2, 3, 6]"
      ]
     },
     "execution_count": 151,
     "metadata": {},
     "output_type": "execute_result"
    }
   ],
   "source": [
    "get_adjacent_nodes(0,visited_array)"
   ]
  },
  {
   "cell_type": "code",
   "execution_count": 101,
   "id": "e42893e2",
   "metadata": {},
   "outputs": [
    {
     "name": "stdout",
     "output_type": "stream",
     "text": [
      "Enter goal node : 3\n"
     ]
    }
   ],
   "source": [
    "read_goal_node()\n",
    "goal_node = 5"
   ]
  },
  {
   "cell_type": "code",
   "execution_count": 129,
   "id": "5a5b4969",
   "metadata": {},
   "outputs": [],
   "source": [
    "x=[1,2,3]\n",
    "y=[4,5,6]\n",
    "x+=y\n",
    "x\n",
    "z=[]\n"
   ]
  },
  {
   "cell_type": "code",
   "execution_count": 132,
   "id": "d724a2f0",
   "metadata": {},
   "outputs": [
    {
     "data": {
      "text/plain": [
       "0"
      ]
     },
     "execution_count": 132,
     "metadata": {},
     "output_type": "execute_result"
    }
   ],
   "source": [
    "len(z)"
   ]
  },
  {
   "cell_type": "code",
   "execution_count": null,
   "id": "87eb473e",
   "metadata": {},
   "outputs": [],
   "source": []
  }
 ],
 "metadata": {
  "kernelspec": {
   "display_name": "Python 3 (ipykernel)",
   "language": "python",
   "name": "python3"
  },
  "language_info": {
   "codemirror_mode": {
    "name": "ipython",
    "version": 3
   },
   "file_extension": ".py",
   "mimetype": "text/x-python",
   "name": "python",
   "nbconvert_exporter": "python",
   "pygments_lexer": "ipython3",
   "version": "3.11.2"
  }
 },
 "nbformat": 4,
 "nbformat_minor": 5
}
