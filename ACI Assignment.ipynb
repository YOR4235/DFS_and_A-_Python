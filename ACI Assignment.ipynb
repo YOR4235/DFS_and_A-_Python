{
 "cells": [
  {
   "cell_type": "code",
   "execution_count": 197,
   "id": "2be9de59",
   "metadata": {},
   "outputs": [
    {
     "name": "stdout",
     "output_type": "stream",
     "text": [
      "Enter Start node : 0\n",
      "Enter goal node : 2\n"
     ]
    }
   ],
   "source": [
    "# dynamic input strat node and goal node\n",
    "initial_node = int(input('Enter Start node : '))\n",
    "goal_node = int(input('Enter goal node : '))"
   ]
  },
  {
   "cell_type": "code",
   "execution_count": 16,
   "id": "b195f42b-f5bc-4360-8a66-d890f74a1038",
   "metadata": {},
   "outputs": [
    {
     "name": "stdout",
     "output_type": "stream",
     "text": [
      "Enter number of nodes : 8\n",
      "Input format : Enter edges from node i : node1:cost1,node2:cost2,..  \n",
      "Enter edges from node 0 : 1:15,2:10,3:17,6:5\n",
      "Enter edges from node 1 : 3:12\n",
      "Enter edges from node 2 : 6:7\n",
      "Enter edges from node 3 : 4:2,5:10,7:4\n",
      "Enter edges from node 4 : \n",
      "Enter edges from node 5 : 7:11\n",
      "Enter edges from node 6 : 7:25\n",
      "Enter edges from node 7 : \n"
     ]
    }
   ],
   "source": [
    "#dynamic graph input\n",
    "import numpy as np\n",
    "\n",
    "#number of nodes\n",
    "nodes_count = int(input('Enter number of nodes : '))\n",
    "\n",
    "transition_matrix = np.matrix(np.ones((nodes_count,nodes_count))*np.inf)\n",
    "\n",
    "print(\"Input format : Enter edges from node i : node1:cost1,node2:cost2,..  \")\n",
    "for each_node in range(nodes_count):\n",
    "    transition_matrix[each_node,each_node]=0\n",
    "    edges_with_cost = input('Enter edges from node {0} : '.format(each_node)).split(',')\n",
    "    for each_edge in edges_with_cost:\n",
    "        if each_edge:\n",
    "            transition_matrix[each_node,int(each_edge.split(':')[0])]=int(each_edge.split(':')[1])\n",
    "            transition_matrix[int(each_edge.split(':')[0]),each_node]=int(each_edge.split(':')[1])"
   ]
  },
  {
   "cell_type": "code",
   "execution_count": 187,
   "id": "2b21c42b-195f-4b47-ad4a-75dedcddf429",
   "metadata": {},
   "outputs": [
    {
     "data": {
      "text/plain": [
       "matrix([[ 0., 15., 10., 17., inf, inf,  5., inf],\n",
       "        [15.,  0., inf, 12., inf, inf, inf, inf],\n",
       "        [10., inf,  0., inf, inf, inf,  7., inf],\n",
       "        [17., 12., inf,  0.,  2., 10., inf,  4.],\n",
       "        [inf, inf, inf,  2.,  0., inf, inf, inf],\n",
       "        [inf, inf, inf, 10., inf,  0., inf, 11.],\n",
       "        [ 5., inf,  7., inf, inf, inf,  0., 25.],\n",
       "        [inf, inf, inf,  4., inf, 11., 25.,  0.]])"
      ]
     },
     "execution_count": 187,
     "metadata": {},
     "output_type": "execute_result"
    }
   ],
   "source": [
    "transition_matrix"
   ]
  },
  {
   "cell_type": "code",
   "execution_count": 188,
   "id": "bf94aaa3-24b0-4df6-82ef-36d54a27a756",
   "metadata": {},
   "outputs": [],
   "source": [
    "def get_adjacent_node(node,start_from=0):\n",
    "    for adj_node in range(start_from,nodes_count):\n",
    "        if transition_matrix[node,adj_node] not in (0,float('inf')):\n",
    "            if visited_array[adj_node]==0:\n",
    "                return adj_node\n",
    "    return -1"
   ]
  },
  {
   "cell_type": "code",
   "execution_count": 189,
   "id": "7a9dc3f6",
   "metadata": {},
   "outputs": [],
   "source": [
    "def is_goal_node(node):\n",
    "    visited_array[node]=1\n",
    "    if node==goal_node:\n",
    "        return True\n",
    "    return False"
   ]
  },
  {
   "cell_type": "code",
   "execution_count": 206,
   "id": "e53a3cff",
   "metadata": {},
   "outputs": [],
   "source": [
    "visited_array = np.array(np.zeros(nodes_count))\n",
    "dfs_stack = [initial_node]\n",
    "\n",
    "def dfs_algorithm(node=initial_node):\n",
    "    if is_goal_node(node):\n",
    "        print(node)\n",
    "    else:\n",
    "        print(node,end='-')\n",
    "        adj_node = get_adjacent_node(node)\n",
    "        if adj_node != -1:\n",
    "            dfs_stack.append(adj_node)\n",
    "            dfs_algorithm(adj_node)\n",
    "        else:\n",
    "            dfs_stack.pop()\n",
    "            if len(dfs_stack)>0:\n",
    "                dfs_algorithm(dfs_stack[-1])\n",
    "            else:\n",
    "                return \"node not found\""
   ]
  },
  {
   "cell_type": "code",
   "execution_count": 208,
   "id": "22a7eb59",
   "metadata": {
    "scrolled": true
   },
   "outputs": [
    {
     "name": "stdout",
     "output_type": "stream",
     "text": [
      "0-1-3-4-3-5-7-6-2\n"
     ]
    }
   ],
   "source": [
    "visited_array = np.array(np.zeros(nodes_count))\n",
    "dfs_algorithm()"
   ]
  },
  {
   "cell_type": "code",
   "execution_count": null,
   "id": "7ee96dbe",
   "metadata": {},
   "outputs": [],
   "source": []
  },
  {
   "cell_type": "code",
   "execution_count": null,
   "id": "43613535",
   "metadata": {},
   "outputs": [],
   "source": []
  }
 ],
 "metadata": {
  "kernelspec": {
   "display_name": "Python 3 (ipykernel)",
   "language": "python",
   "name": "python3"
  },
  "language_info": {
   "codemirror_mode": {
    "name": "ipython",
    "version": 3
   },
   "file_extension": ".py",
   "mimetype": "text/x-python",
   "name": "python",
   "nbconvert_exporter": "python",
   "pygments_lexer": "ipython3",
   "version": "3.11.2"
  }
 },
 "nbformat": 4,
 "nbformat_minor": 5
}
